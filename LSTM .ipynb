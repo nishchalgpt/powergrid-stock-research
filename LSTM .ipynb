{
 "cells": [
  {
   "cell_type": "code",
   "execution_count": 1,
   "metadata": {},
   "outputs": [
    {
     "name": "stderr",
     "output_type": "stream",
     "text": [
      "/home/nishchal/.local/lib/python3.5/site-packages/sklearn/cross_validation.py:41: DeprecationWarning: This module was deprecated in version 0.18 in favor of the model_selection module into which all the refactored classes and functions are moved. Also note that the interface of the new CV iterators are different from that of this module. This module will be removed in 0.20.\n",
      "  \"This module will be removed in 0.20.\", DeprecationWarning)\n",
      "Using TensorFlow backend.\n"
     ]
    }
   ],
   "source": [
    "import pandas as pd\n",
    "import quandl as qd\n",
    "import numpy as np\n",
    "import math\n",
    "from matplotlib import pyplot as plt\n",
    "import seaborn as sns\n",
    "from sklearn import preprocessing, cross_validation\n",
    "from sklearn import svm\n",
    "from sklearn.preprocessing import normalize\n",
    "from sklearn.neighbors import KNeighborsClassifier\n",
    "from sklearn.tree import DecisionTreeRegressor\n",
    "from sklearn.ensemble import RandomForestRegressor\n",
    "import PyQt5\n",
    "from sklearn.neural_network import MLPRegressor\n",
    "import tensorflow\n",
    "import keras.utils\n",
    "from keras.models import Sequential\n",
    "from keras.layers import LSTM, Dense, Activation, Dropout"
   ]
  },
  {
   "cell_type": "code",
   "execution_count": 2,
   "metadata": {},
   "outputs": [],
   "source": [
    "df = qd.get(\"NSE/POWERGRID\", authtoken=\"gmWv5h5b4KEUxUbiSneX\")"
   ]
  },
  {
   "cell_type": "code",
   "execution_count": 3,
   "metadata": {},
   "outputs": [
    {
     "data": {
      "text/html": [
       "<div>\n",
       "<style scoped>\n",
       "    .dataframe tbody tr th:only-of-type {\n",
       "        vertical-align: middle;\n",
       "    }\n",
       "\n",
       "    .dataframe tbody tr th {\n",
       "        vertical-align: top;\n",
       "    }\n",
       "\n",
       "    .dataframe thead th {\n",
       "        text-align: right;\n",
       "    }\n",
       "</style>\n",
       "<table border=\"1\" class=\"dataframe\">\n",
       "  <thead>\n",
       "    <tr style=\"text-align: right;\">\n",
       "      <th></th>\n",
       "      <th>Open</th>\n",
       "      <th>High</th>\n",
       "      <th>Low</th>\n",
       "      <th>Last</th>\n",
       "      <th>Close</th>\n",
       "      <th>Total Trade Quantity</th>\n",
       "      <th>Turnover (Lacs)</th>\n",
       "    </tr>\n",
       "    <tr>\n",
       "      <th>Date</th>\n",
       "      <th></th>\n",
       "      <th></th>\n",
       "      <th></th>\n",
       "      <th></th>\n",
       "      <th></th>\n",
       "      <th></th>\n",
       "      <th></th>\n",
       "    </tr>\n",
       "  </thead>\n",
       "  <tbody>\n",
       "    <tr>\n",
       "      <th>2007-10-05</th>\n",
       "      <td>89.8</td>\n",
       "      <td>109.50</td>\n",
       "      <td>83.15</td>\n",
       "      <td>100.20</td>\n",
       "      <td>100.60</td>\n",
       "      <td>481058927.0</td>\n",
       "      <td>493056.07</td>\n",
       "    </tr>\n",
       "    <tr>\n",
       "      <th>2007-10-08</th>\n",
       "      <td>104.0</td>\n",
       "      <td>104.00</td>\n",
       "      <td>94.85</td>\n",
       "      <td>95.30</td>\n",
       "      <td>95.45</td>\n",
       "      <td>71252858.0</td>\n",
       "      <td>69916.16</td>\n",
       "    </tr>\n",
       "    <tr>\n",
       "      <th>2007-10-09</th>\n",
       "      <td>95.5</td>\n",
       "      <td>102.85</td>\n",
       "      <td>90.35</td>\n",
       "      <td>102.10</td>\n",
       "      <td>101.95</td>\n",
       "      <td>65658228.0</td>\n",
       "      <td>64717.84</td>\n",
       "    </tr>\n",
       "    <tr>\n",
       "      <th>2007-10-10</th>\n",
       "      <td>104.6</td>\n",
       "      <td>105.00</td>\n",
       "      <td>102.00</td>\n",
       "      <td>102.65</td>\n",
       "      <td>102.90</td>\n",
       "      <td>38211410.0</td>\n",
       "      <td>39608.87</td>\n",
       "    </tr>\n",
       "    <tr>\n",
       "      <th>2007-10-11</th>\n",
       "      <td>120.0</td>\n",
       "      <td>120.00</td>\n",
       "      <td>102.00</td>\n",
       "      <td>114.85</td>\n",
       "      <td>114.40</td>\n",
       "      <td>59805552.0</td>\n",
       "      <td>66252.35</td>\n",
       "    </tr>\n",
       "  </tbody>\n",
       "</table>\n",
       "</div>"
      ],
      "text/plain": [
       "             Open    High     Low    Last   Close  Total Trade Quantity  \\\n",
       "Date                                                                      \n",
       "2007-10-05   89.8  109.50   83.15  100.20  100.60           481058927.0   \n",
       "2007-10-08  104.0  104.00   94.85   95.30   95.45            71252858.0   \n",
       "2007-10-09   95.5  102.85   90.35  102.10  101.95            65658228.0   \n",
       "2007-10-10  104.6  105.00  102.00  102.65  102.90            38211410.0   \n",
       "2007-10-11  120.0  120.00  102.00  114.85  114.40            59805552.0   \n",
       "\n",
       "            Turnover (Lacs)  \n",
       "Date                         \n",
       "2007-10-05        493056.07  \n",
       "2007-10-08         69916.16  \n",
       "2007-10-09         64717.84  \n",
       "2007-10-10         39608.87  \n",
       "2007-10-11         66252.35  "
      ]
     },
     "execution_count": 3,
     "metadata": {},
     "output_type": "execute_result"
    }
   ],
   "source": [
    "df.head()"
   ]
  },
  {
   "cell_type": "code",
   "execution_count": 4,
   "metadata": {},
   "outputs": [],
   "source": [
    "df.dropna(inplace=True)"
   ]
  },
  {
   "cell_type": "code",
   "execution_count": 5,
   "metadata": {},
   "outputs": [],
   "source": [
    "df['Date'] = np.array(df.index.to_pydatetime(), dtype=np.datetime64)"
   ]
  },
  {
   "cell_type": "code",
   "execution_count": 29,
   "metadata": {
    "scrolled": true
   },
   "outputs": [
    {
     "name": "stderr",
     "output_type": "stream",
     "text": [
      "/usr/local/lib/python3.5/dist-packages/ipykernel_launcher.py:14: SettingWithCopyWarning: \n",
      "A value is trying to be set on a copy of a slice from a DataFrame.\n",
      "Try using .loc[row_indexer,col_indexer] = value instead\n",
      "\n",
      "See the caveats in the documentation: http://pandas.pydata.org/pandas-docs/stable/indexing.html#indexing-view-versus-copy\n",
      "  \n",
      "/usr/local/lib/python3.5/dist-packages/ipykernel_launcher.py:15: SettingWithCopyWarning: \n",
      "A value is trying to be set on a copy of a slice from a DataFrame.\n",
      "Try using .loc[row_indexer,col_indexer] = value instead\n",
      "\n",
      "See the caveats in the documentation: http://pandas.pydata.org/pandas-docs/stable/indexing.html#indexing-view-versus-copy\n",
      "  from ipykernel import kernelapp as app\n",
      "/usr/local/lib/python3.5/dist-packages/ipykernel_launcher.py:18: FutureWarning: pd.ewm_mean is deprecated for Series and will be removed in a future version, replace with \n",
      "\tSeries.ewm(min_periods=0,span=12,ignore_na=False,adjust=True).mean()\n",
      "/usr/local/lib/python3.5/dist-packages/ipykernel_launcher.py:19: FutureWarning: pd.ewm_mean is deprecated for Series and will be removed in a future version, replace with \n",
      "\tSeries.ewm(min_periods=0,span=26,ignore_na=False,adjust=True).mean()\n",
      "/usr/local/lib/python3.5/dist-packages/ipykernel_launcher.py:11: FutureWarning: pd.ewm_mean is deprecated for Series and will be removed in a future version, replace with \n",
      "\tSeries.ewm(min_periods=0,com=5,ignore_na=False,adjust=False).mean()\n",
      "  # This is added back by InteractiveShellApp.init_path()\n"
     ]
    }
   ],
   "source": [
    "def RSI(dataframe, period):\n",
    "    delta = dataframe.diff().dropna()\n",
    "    u = delta * 0\n",
    "    d = u.copy()\n",
    "    u[delta > 0] = delta[delta > 0]\n",
    "    d[delta < 0] = -delta[delta < 0]\n",
    "    u[u.index[period-1]] = np.mean( u[:period] ) #first value is sum of avg gains\n",
    "    u = u.drop(u.index[:(period-1)])\n",
    "    d[d.index[period-1]] = np.mean( d[:period] ) #first value is sum of avg losses\n",
    "    d = d.drop(d.index[:(period-1)])\n",
    "    rs = pd.stats.moments.ewma(u, com=period-1, adjust=False) / \\\n",
    "         pd.stats.moments.ewma(d, com=period-1, adjust=False)\n",
    "    return 100 - 100 / (1 + rs)\n",
    "df_temp = df[['Open', 'High', 'Low', 'Close', 'Total Trade Quantity']]\n",
    "df_temp['HLP'] = (df_temp['High'] - df_temp['Close']) / df_temp['Close'] * 100.0\n",
    "df_temp['Change'] = (df_temp['Close'] - df_temp['Open']) / df_temp['Open'] * 100\n",
    "df_temp['EPS'] = (df['Turnover (Lacs)']*100000)/df['Total Trade Quantity']\n",
    "df_temp['PE'] = df_temp['Close']/df_temp['EPS']\n",
    "df_temp['EWMA12']= pd.ewma(df_temp['Close'], span=12)\n",
    "df_temp['EWMA26']= pd.ewma(df_temp['Close'], span=26)\n",
    "df_temp['MACD']= (df_temp['EWMA12'] - df_temp['EWMA26'])\n",
    "df_temp['RSI']= RSI(df_temp['Close'],6)\n",
    "def getclass(int):\n",
    "    if(int < 0):\n",
    "        return 0\n",
    "    else:\n",
    "        return 1\n",
    "        \n",
    "df_temp['Class']= df_temp['Change'].apply(getclass)\n",
    "df_use = df_temp[['Close', 'HLP', 'Change', 'Total Trade Quantity', 'EPS', 'PE' , 'EWMA12','EWMA26','MACD', 'RSI']]"
   ]
  },
  {
   "cell_type": "code",
   "execution_count": 30,
   "metadata": {},
   "outputs": [
    {
     "data": {
      "text/html": [
       "<div>\n",
       "<style scoped>\n",
       "    .dataframe tbody tr th:only-of-type {\n",
       "        vertical-align: middle;\n",
       "    }\n",
       "\n",
       "    .dataframe tbody tr th {\n",
       "        vertical-align: top;\n",
       "    }\n",
       "\n",
       "    .dataframe thead th {\n",
       "        text-align: right;\n",
       "    }\n",
       "</style>\n",
       "<table border=\"1\" class=\"dataframe\">\n",
       "  <thead>\n",
       "    <tr style=\"text-align: right;\">\n",
       "      <th></th>\n",
       "      <th>Close</th>\n",
       "      <th>HLP</th>\n",
       "      <th>Change</th>\n",
       "      <th>Total Trade Quantity</th>\n",
       "      <th>EPS</th>\n",
       "      <th>PE</th>\n",
       "      <th>EWMA12</th>\n",
       "      <th>EWMA26</th>\n",
       "      <th>MACD</th>\n",
       "      <th>RSI</th>\n",
       "    </tr>\n",
       "  </thead>\n",
       "  <tbody>\n",
       "    <tr>\n",
       "      <th>count</th>\n",
       "      <td>2652.000000</td>\n",
       "      <td>2652.000000</td>\n",
       "      <td>2652.000000</td>\n",
       "      <td>2.652000e+03</td>\n",
       "      <td>2652.000000</td>\n",
       "      <td>2652.000000</td>\n",
       "      <td>2652.000000</td>\n",
       "      <td>2652.000000</td>\n",
       "      <td>2652.000000</td>\n",
       "      <td>2646.000000</td>\n",
       "    </tr>\n",
       "    <tr>\n",
       "      <th>mean</th>\n",
       "      <td>128.714857</td>\n",
       "      <td>1.453158</td>\n",
       "      <td>-0.066296</td>\n",
       "      <td>5.188986e+06</td>\n",
       "      <td>128.749414</td>\n",
       "      <td>0.999799</td>\n",
       "      <td>128.526280</td>\n",
       "      <td>128.315811</td>\n",
       "      <td>0.210468</td>\n",
       "      <td>51.006775</td>\n",
       "    </tr>\n",
       "    <tr>\n",
       "      <th>std</th>\n",
       "      <td>37.440889</td>\n",
       "      <td>1.451119</td>\n",
       "      <td>2.008374</td>\n",
       "      <td>1.317505e+07</td>\n",
       "      <td>37.452316</td>\n",
       "      <td>0.008101</td>\n",
       "      <td>37.155621</td>\n",
       "      <td>36.803786</td>\n",
       "      <td>2.015306</td>\n",
       "      <td>16.238346</td>\n",
       "    </tr>\n",
       "    <tr>\n",
       "      <th>min</th>\n",
       "      <td>58.000000</td>\n",
       "      <td>0.050531</td>\n",
       "      <td>-16.287879</td>\n",
       "      <td>3.406300e+04</td>\n",
       "      <td>55.981979</td>\n",
       "      <td>0.926117</td>\n",
       "      <td>72.198764</td>\n",
       "      <td>74.659871</td>\n",
       "      <td>-9.626400</td>\n",
       "      <td>6.880188</td>\n",
       "    </tr>\n",
       "    <tr>\n",
       "      <th>25%</th>\n",
       "      <td>101.800000</td>\n",
       "      <td>0.584308</td>\n",
       "      <td>-0.947138</td>\n",
       "      <td>2.091749e+06</td>\n",
       "      <td>101.695723</td>\n",
       "      <td>0.996299</td>\n",
       "      <td>101.784387</td>\n",
       "      <td>101.852812</td>\n",
       "      <td>-0.884202</td>\n",
       "      <td>39.477607</td>\n",
       "    </tr>\n",
       "    <tr>\n",
       "      <th>50%</th>\n",
       "      <td>111.975000</td>\n",
       "      <td>1.037903</td>\n",
       "      <td>-0.086459</td>\n",
       "      <td>3.323502e+06</td>\n",
       "      <td>112.103769</td>\n",
       "      <td>0.999769</td>\n",
       "      <td>111.371237</td>\n",
       "      <td>110.912666</td>\n",
       "      <td>0.068304</td>\n",
       "      <td>50.991547</td>\n",
       "    </tr>\n",
       "    <tr>\n",
       "      <th>75%</th>\n",
       "      <td>143.912500</td>\n",
       "      <td>1.799181</td>\n",
       "      <td>0.805843</td>\n",
       "      <td>5.526354e+06</td>\n",
       "      <td>143.888150</td>\n",
       "      <td>1.003299</td>\n",
       "      <td>143.383955</td>\n",
       "      <td>142.850804</td>\n",
       "      <td>1.342273</td>\n",
       "      <td>61.900125</td>\n",
       "    </tr>\n",
       "    <tr>\n",
       "      <th>max</th>\n",
       "      <td>225.950000</td>\n",
       "      <td>19.457014</td>\n",
       "      <td>20.000000</td>\n",
       "      <td>4.810589e+08</td>\n",
       "      <td>225.185376</td>\n",
       "      <td>1.069923</td>\n",
       "      <td>221.359736</td>\n",
       "      <td>219.290654</td>\n",
       "      <td>6.310374</td>\n",
       "      <td>94.537791</td>\n",
       "    </tr>\n",
       "  </tbody>\n",
       "</table>\n",
       "</div>"
      ],
      "text/plain": [
       "             Close          HLP       Change  Total Trade Quantity  \\\n",
       "count  2652.000000  2652.000000  2652.000000          2.652000e+03   \n",
       "mean    128.714857     1.453158    -0.066296          5.188986e+06   \n",
       "std      37.440889     1.451119     2.008374          1.317505e+07   \n",
       "min      58.000000     0.050531   -16.287879          3.406300e+04   \n",
       "25%     101.800000     0.584308    -0.947138          2.091749e+06   \n",
       "50%     111.975000     1.037903    -0.086459          3.323502e+06   \n",
       "75%     143.912500     1.799181     0.805843          5.526354e+06   \n",
       "max     225.950000    19.457014    20.000000          4.810589e+08   \n",
       "\n",
       "               EPS           PE       EWMA12       EWMA26         MACD  \\\n",
       "count  2652.000000  2652.000000  2652.000000  2652.000000  2652.000000   \n",
       "mean    128.749414     0.999799   128.526280   128.315811     0.210468   \n",
       "std      37.452316     0.008101    37.155621    36.803786     2.015306   \n",
       "min      55.981979     0.926117    72.198764    74.659871    -9.626400   \n",
       "25%     101.695723     0.996299   101.784387   101.852812    -0.884202   \n",
       "50%     112.103769     0.999769   111.371237   110.912666     0.068304   \n",
       "75%     143.888150     1.003299   143.383955   142.850804     1.342273   \n",
       "max     225.185376     1.069923   221.359736   219.290654     6.310374   \n",
       "\n",
       "               RSI  \n",
       "count  2646.000000  \n",
       "mean     51.006775  \n",
       "std      16.238346  \n",
       "min       6.880188  \n",
       "25%      39.477607  \n",
       "50%      50.991547  \n",
       "75%      61.900125  \n",
       "max      94.537791  "
      ]
     },
     "execution_count": 30,
     "metadata": {},
     "output_type": "execute_result"
    }
   ],
   "source": [
    "df_use.describe()"
   ]
  },
  {
   "cell_type": "code",
   "execution_count": 31,
   "metadata": {
    "scrolled": true
   },
   "outputs": [
    {
     "name": "stderr",
     "output_type": "stream",
     "text": [
      "/usr/local/lib/python3.5/dist-packages/ipykernel_launcher.py:1: SettingWithCopyWarning: \n",
      "A value is trying to be set on a copy of a slice from a DataFrame\n",
      "\n",
      "See the caveats in the documentation: http://pandas.pydata.org/pandas-docs/stable/indexing.html#indexing-view-versus-copy\n",
      "  \"\"\"Entry point for launching an IPython kernel.\n"
     ]
    }
   ],
   "source": [
    "df_use.dropna(inplace = True)"
   ]
  },
  {
   "cell_type": "code",
   "execution_count": 32,
   "metadata": {
    "scrolled": true
   },
   "outputs": [
    {
     "name": "stdout",
     "output_type": "stream",
     "text": [
      "We are predicting 8 days into the future\n"
     ]
    }
   ],
   "source": [
    "print('We are predicting 8 days into the future')"
   ]
  },
  {
   "cell_type": "code",
   "execution_count": 18,
   "metadata": {},
   "outputs": [],
   "source": [
    "def build_model(inputs, output_size, neurons, activ_func=\"linear\",\n",
    "                dropout=0.10, loss=\"mae\", optimizer=\"adam\"):\n",
    "    \n",
    "    model = Sequential()\n",
    "\n",
    "    model.add(LSTM(neurons, input_shape=(inputs.shape[1], inputs.shape[2])))\n",
    "    model.add(Dropout(dropout))\n",
    "    model.add(Dense(units=output_size))\n",
    "    model.add(Activation(activ_func))\n",
    "\n",
    "    model.compile(loss=loss, optimizer=optimizer)\n",
    "    return model"
   ]
  },
  {
   "cell_type": "code",
   "execution_count": 33,
   "metadata": {},
   "outputs": [
    {
     "data": {
      "text/plain": [
       "(530, 10)"
      ]
     },
     "execution_count": 33,
     "metadata": {},
     "output_type": "execute_result"
    }
   ],
   "source": [
    "a = int(df_use.shape[0]*0.80)\n",
    "training_set = df_use[:a]\n",
    "test_set = df_use[a:]\n",
    "test_set.shape"
   ]
  },
  {
   "cell_type": "code",
   "execution_count": 34,
   "metadata": {},
   "outputs": [],
   "source": [
    "LSTM_training_inputs = []\n",
    "for i in range(len(training_set)-8):\n",
    "    temp_set = training_set[i:(i+8)].copy()\n",
    "    \n",
    "    for col in list(temp_set):\n",
    "        temp_set[col] = temp_set[col]/temp_set[col].iloc[0] - 1\n",
    "    \n",
    "    LSTM_training_inputs.append(temp_set)"
   ]
  },
  {
   "cell_type": "code",
   "execution_count": 35,
   "metadata": {},
   "outputs": [],
   "source": [
    "LSTM_test_inputs = []\n",
    "for i in range(len(test_set)-8):\n",
    "    temp_set = test_set[i:(i+8)].copy()\n",
    "    \n",
    "    for col in list(temp_set):\n",
    "        temp_set[col] = temp_set[col]/temp_set[col].iloc[0] - 1\n",
    "    \n",
    "    LSTM_test_inputs.append(temp_set)"
   ]
  },
  {
   "cell_type": "code",
   "execution_count": 36,
   "metadata": {},
   "outputs": [],
   "source": [
    "LSTM_training_inputs = [np.array(LSTM_training_input) for LSTM_training_input in LSTM_training_inputs]\n",
    "LSTM_training_inputs = np.array(LSTM_training_inputs)\n",
    "\n",
    "LSTM_test_inputs = [np.array(LSTM_test_input) for LSTM_test_input in LSTM_test_inputs]\n",
    "LSTM_test_inputs = np.array(LSTM_test_inputs)"
   ]
  },
  {
   "cell_type": "code",
   "execution_count": 37,
   "metadata": {},
   "outputs": [],
   "source": [
    "LSTM_training_outputs = (training_set['Close'][8:].values/training_set['Close'][:-8].values)-1\n",
    "\n",
    "LSTM_test_outputs = (test_set['Close'][8:].values/test_set['Close'][:-8].values)-1"
   ]
  },
  {
   "cell_type": "code",
   "execution_count": 39,
   "metadata": {},
   "outputs": [
    {
     "data": {
      "text/plain": [
       "(2108, 8, 10)"
      ]
     },
     "execution_count": 39,
     "metadata": {},
     "output_type": "execute_result"
    }
   ],
   "source": [
    "LSTM_training_inputs.shape"
   ]
  },
  {
   "cell_type": "code",
   "execution_count": null,
   "metadata": {
    "scrolled": true
   },
   "outputs": [],
   "source": [
    "nn_model = build_model(LSTM_training_inputs, output_size=1, neurons = 32)\n",
    "\n",
    "nn_history = nn_model.fit(LSTM_training_inputs, LSTM_training_outputs, \n",
    "                            epochs=5, batch_size=1, verbose=2, shuffle=True)"
   ]
  },
  {
   "cell_type": "code",
   "execution_count": null,
   "metadata": {},
   "outputs": [],
   "source": [
    "plt.plot(LSTM_test_outputs, label = \"actual\")\n",
    "plt.plot(nn_model.predict(LSTM_test_inputs), label = \"predicted\")\n",
    "plt.legend()\n",
    "plt.show()\n",
    "MAE = mean_absolute_error(LSTM_test_outputs, nn_model.predict(LSTM_test_inputs))\n",
    "print('The Mean Absolute Error is: {}'.format(MAE))"
   ]
  },
  {
   "cell_type": "code",
   "execution_count": null,
   "metadata": {},
   "outputs": [],
   "source": []
  }
 ],
 "metadata": {
  "kernelspec": {
   "display_name": "Python 3",
   "language": "python",
   "name": "python3"
  },
  "language_info": {
   "codemirror_mode": {
    "name": "ipython",
    "version": 3
   },
   "file_extension": ".py",
   "mimetype": "text/x-python",
   "name": "python",
   "nbconvert_exporter": "python",
   "pygments_lexer": "ipython3",
   "version": "3.5.2"
  }
 },
 "nbformat": 4,
 "nbformat_minor": 2
}
